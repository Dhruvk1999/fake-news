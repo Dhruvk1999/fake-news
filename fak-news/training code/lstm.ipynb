{
 "cells": [
  {
   "cell_type": "code",
   "execution_count": 3,
   "metadata": {
    "colab": {
     "base_uri": "https://localhost:8080/"
    },
    "id": "9G5OHaZOlLIl",
    "outputId": "cd4bc98b-6560-4075-ec72-4eb74b82b227"
   },
   "outputs": [
    {
     "name": "stdout",
     "output_type": "stream",
     "text": [
      "Automatically created module for IPython interactive environment\n"
     ]
    }
   ],
   "source": [
    "print(__doc__)\n",
    "import numpy as np\n",
    "import scipy as sp\n",
    "import pandas as pd\n",
    "from subprocess import check_output\n",
    " \n",
    "import time, json\n",
    "from datetime import date\n",
    " \n",
    "import time\n",
    "import math\n",
    "from keras.models import Sequential\n",
    "from keras.layers.core import Dense, Dropout, Activation\n",
    "from keras.layers.recurrent import LSTM\n",
    "import numpy as np\n",
    "import pandas as pd\n",
    "import sklearn.preprocessing as prep\n",
    "import matplotlib.pylab as plt\n",
    "%matplotlib inline\n",
    "from matplotlib.pylab import rcParams"
   ]
  },
  {
   "cell_type": "code",
   "execution_count": null,
   "metadata": {
    "id": "2HxnFiNjoT4x"
   },
   "outputs": [],
   "source": [
    "\n"
   ]
  },
  {
   "cell_type": "code",
   "execution_count": 26,
   "metadata": {
    "id": "4fe4FEKTxIf2"
   },
   "outputs": [],
   "source": [
    "df= pd.read_csv('grd.csv')\n",
    "df4=df.set_index(\"Code\")"
   ]
  },
  {
   "cell_type": "code",
   "execution_count": 27,
   "metadata": {
    "id": "qKHrWHQGpcry"
   },
   "outputs": [],
   "source": [
    "\n",
    "df4=df.set_index(\"Code\")"
   ]
  },
  {
   "cell_type": "code",
   "execution_count": null,
   "metadata": {
    "colab": {
     "base_uri": "https://localhost:8080/"
    },
    "id": "zQ1CfMcxw2gA",
    "outputId": "c04f29ac-1a04-49cd-8be0-1bb27b020382"
   },
   "outputs": [],
   "source": []
  },
  {
   "cell_type": "code",
   "execution_count": 28,
   "metadata": {
    "id": "_3nAnVylpmur"
   },
   "outputs": [],
   "source": [
    "uniqueVals = df[\"Code\"].unique()"
   ]
  },
  {
   "cell_type": "code",
   "execution_count": null,
   "metadata": {
    "id": "WIOjKIMRrhHT"
   },
   "outputs": [],
   "source": []
  },
  {
   "cell_type": "code",
   "execution_count": 29,
   "metadata": {
    "id": "0xfvw0EGpu44"
   },
   "outputs": [],
   "source": [
    "grouped_df=pd.DataFrame()\n",
    "for i in uniqueVals:\n",
    "    df5 = (df4.loc[i,:]).groupby(['Code','Date']).mean()\n",
    "    # store DataFrame in list\n",
    "    grouped_df=grouped_df.append(df5)\n",
    "grouped_df.reset_index()\n",
    "del df5"
   ]
  },
  {
   "cell_type": "code",
   "execution_count": 13,
   "metadata": {},
   "outputs": [],
   "source": []
  },
  {
   "cell_type": "code",
   "execution_count": 30,
   "metadata": {},
   "outputs": [
    {
     "data": {
      "text/plain": [
       "Index(['Open', 'High', 'Low', 'Close', 'Volume'], dtype='object')"
      ]
     },
     "execution_count": 30,
     "metadata": {},
     "output_type": "execute_result"
    }
   ],
   "source": [
    "grouped_df.columns"
   ]
  },
  {
   "cell_type": "code",
   "execution_count": 31,
   "metadata": {
    "colab": {
     "base_uri": "https://localhost:8080/",
     "height": 431
    },
    "id": "Ep55PMb8pziB",
    "outputId": "116684f6-8041-4242-d048-60aa2c14b1d4"
   },
   "outputs": [
    {
     "data": {
      "text/html": [
       "<div>\n",
       "<style scoped>\n",
       "    .dataframe tbody tr th:only-of-type {\n",
       "        vertical-align: middle;\n",
       "    }\n",
       "\n",
       "    .dataframe tbody tr th {\n",
       "        vertical-align: top;\n",
       "    }\n",
       "\n",
       "    .dataframe thead th {\n",
       "        text-align: right;\n",
       "    }\n",
       "</style>\n",
       "<table border=\"1\" class=\"dataframe\">\n",
       "  <thead>\n",
       "    <tr style=\"text-align: right;\">\n",
       "      <th></th>\n",
       "      <th></th>\n",
       "      <th>Open</th>\n",
       "      <th>High</th>\n",
       "      <th>Low</th>\n",
       "      <th>Close</th>\n",
       "      <th>Volume</th>\n",
       "    </tr>\n",
       "    <tr>\n",
       "      <th>Code</th>\n",
       "      <th>Date</th>\n",
       "      <th></th>\n",
       "      <th></th>\n",
       "      <th></th>\n",
       "      <th></th>\n",
       "      <th></th>\n",
       "    </tr>\n",
       "  </thead>\n",
       "  <tbody>\n",
       "    <tr>\n",
       "      <th rowspan=\"5\" valign=\"top\">3IINFOTECH</th>\n",
       "      <th>2014-12-18</th>\n",
       "      <td>7.437910</td>\n",
       "      <td>7.446311</td>\n",
       "      <td>7.427869</td>\n",
       "      <td>7.435041</td>\n",
       "      <td>2538.135246</td>\n",
       "    </tr>\n",
       "    <tr>\n",
       "      <th>2014-12-19</th>\n",
       "      <td>7.582241</td>\n",
       "      <td>7.597414</td>\n",
       "      <td>7.571207</td>\n",
       "      <td>7.583621</td>\n",
       "      <td>2778.203448</td>\n",
       "    </tr>\n",
       "    <tr>\n",
       "      <th>2014-12-22</th>\n",
       "      <td>7.782296</td>\n",
       "      <td>7.793385</td>\n",
       "      <td>7.769650</td>\n",
       "      <td>7.781907</td>\n",
       "      <td>6414.482490</td>\n",
       "    </tr>\n",
       "    <tr>\n",
       "      <th>2014-12-23</th>\n",
       "      <td>7.771465</td>\n",
       "      <td>7.778030</td>\n",
       "      <td>7.762879</td>\n",
       "      <td>7.769444</td>\n",
       "      <td>1944.929293</td>\n",
       "    </tr>\n",
       "    <tr>\n",
       "      <th>2014-12-24</th>\n",
       "      <td>8.321127</td>\n",
       "      <td>8.347465</td>\n",
       "      <td>8.294648</td>\n",
       "      <td>8.321972</td>\n",
       "      <td>10216.726761</td>\n",
       "    </tr>\n",
       "  </tbody>\n",
       "</table>\n",
       "</div>"
      ],
      "text/plain": [
       "                           Open      High       Low     Close        Volume\n",
       "Code       Date                                                            \n",
       "3IINFOTECH 2014-12-18  7.437910  7.446311  7.427869  7.435041   2538.135246\n",
       "           2014-12-19  7.582241  7.597414  7.571207  7.583621   2778.203448\n",
       "           2014-12-22  7.782296  7.793385  7.769650  7.781907   6414.482490\n",
       "           2014-12-23  7.771465  7.778030  7.762879  7.769444   1944.929293\n",
       "           2014-12-24  8.321127  8.347465  8.294648  8.321972  10216.726761"
      ]
     },
     "execution_count": 31,
     "metadata": {},
     "output_type": "execute_result"
    }
   ],
   "source": [
    "grouped_df.head()"
   ]
  },
  {
   "cell_type": "code",
   "execution_count": null,
   "metadata": {
    "id": "MJtnCKifp1th"
   },
   "outputs": [],
   "source": []
  },
  {
   "cell_type": "code",
   "execution_count": 32,
   "metadata": {
    "id": "TCgQwaHdqtaK"
   },
   "outputs": [],
   "source": [
    "def create_dataset(dataset,past=5):\n",
    "    dataX, dataY = [], []\n",
    "    for i in range(len(dataset)-past-1):\n",
    "        j = dataset[i:(i+past), 0]\n",
    "        dataX.append(j)\n",
    "        dataY.append(dataset[i + past, 0])\n",
    "    return np.array(dataX), np.array(dataY)"
   ]
  },
  {
   "cell_type": "code",
   "execution_count": 33,
   "metadata": {
    "id": "vp1jYU82rCpK"
   },
   "outputs": [],
   "source": [
    "from sklearn.preprocessing import MinMaxScaler\n",
    "def testandtrain(prices):\n",
    "    prices = prices.reshape(len(prices), 1)\n",
    "    prices.shape\n",
    "    scaler = MinMaxScaler(feature_range=(0, 1))\n",
    "    prices = scaler.fit_transform(prices)\n",
    "    trainsize = int(len(prices) * 0.80)\n",
    "    testsize = len(prices) - trainsize\n",
    "    train, test = prices[0:trainsize,:], prices[trainsize:len(prices),:]\n",
    "    print(len(train), len(test))\n",
    "    x_train,y_train = create_dataset(train,1)\n",
    "    x_test,y_test = create_dataset(test,1)\n",
    "    x_train = np.reshape(x_train, (x_train.shape[0], 1, x_train.shape[1]))\n",
    "    x_test = np.reshape(x_test, (x_test.shape[0], 1, x_test.shape[1]))\n",
    "    \n",
    "    return x_train,y_train, x_test,y_test"
   ]
  },
  {
   "cell_type": "code",
   "execution_count": 34,
   "metadata": {
    "id": "bTWq-UFLrIEN"
   },
   "outputs": [],
   "source": [
    "def trainingmodel(model, trainX, trainY):\n",
    "    model = Sequential()\n",
    "    model.add(LSTM(20, input_shape=(1,1)))\n",
    "    model.add(Dense(1))\n",
    "    model.compile(loss='mean_squared_error', optimizer='rmsprop')\n",
    "    model.fit(trainX, trainY, epochs=10, batch_size=1, verbose=2)\n",
    "    return model"
   ]
  },
  {
   "cell_type": "code",
   "execution_count": 36,
   "metadata": {
    "colab": {
     "base_uri": "https://localhost:8080/",
     "height": 1000
    },
    "id": "0AAqCwyYrXy1",
    "outputId": "3b71f759-ec4a-42e0-d4a7-4da5079c0c91"
   },
   "outputs": [
    {
     "name": "stdout",
     "output_type": "stream",
     "text": [
      "ARVINDREM\n",
      "143 36\n",
      "Epoch 1/10\n",
      "141/141 - 1s - loss: 0.1117\n",
      "Epoch 2/10\n",
      "141/141 - 0s - loss: 0.0464\n",
      "Epoch 3/10\n",
      "141/141 - 0s - loss: 0.0339\n",
      "Epoch 4/10\n",
      "141/141 - 0s - loss: 0.0261\n",
      "Epoch 5/10\n",
      "141/141 - 0s - loss: 0.0182\n",
      "Epoch 6/10\n",
      "141/141 - 0s - loss: 0.0109\n",
      "Epoch 7/10\n",
      "141/141 - 0s - loss: 0.0060\n",
      "Epoch 8/10\n",
      "141/141 - 0s - loss: 0.0036\n",
      "Epoch 9/10\n",
      "141/141 - 0s - loss: 0.0030\n",
      "Epoch 10/10\n",
      "141/141 - 0s - loss: 0.0030\n",
      "WARNING:tensorflow:5 out of the last 13 calls to <function Model.make_predict_function.<locals>.predict_function at 0x000002491CA59A60> triggered tf.function retracing. Tracing is expensive and the excessive number of tracings could be due to (1) creating @tf.function repeatedly in a loop, (2) passing tensors with different shapes, (3) passing Python objects instead of tensors. For (1), please define your @tf.function outside of the loop. For (2), @tf.function has experimental_relax_shapes=True option that relaxes argument shapes that can avoid unnecessary retracing. For (3), please refer to https://www.tensorflow.org/guide/function#controlling_retracing and https://www.tensorflow.org/api_docs/python/tf/function for  more details.\n",
      "Test RMSE: 0.025\n"
     ]
    },
    {
     "data": {
      "image/png": "[encoded data removed]",
      "text/plain": [
       "<Figure size 432x288 with 1 Axes>"
      ]
     },
     "metadata": {
      "needs_background": "light"
     },
     "output_type": "display_data"
    },
    {
     "name": "stdout",
     "output_type": "stream",
     "text": [
      " --------end for the company------\n",
      "ASHOKA\n",
      "146 37\n",
      "Epoch 1/10\n",
      "144/144 - 1s - loss: 0.1332\n",
      "Epoch 2/10\n",
      "144/144 - 0s - loss: 0.0222\n",
      "Epoch 3/10\n",
      "144/144 - 0s - loss: 0.0142\n",
      "Epoch 4/10\n",
      "144/144 - 0s - loss: 0.0091\n",
      "Epoch 5/10\n",
      "144/144 - 0s - loss: 0.0061\n",
      "Epoch 6/10\n",
      "144/144 - 0s - loss: 0.0050\n",
      "Epoch 7/10\n",
      "144/144 - 0s - loss: 0.0047\n",
      "Epoch 8/10\n",
      "144/144 - 0s - loss: 0.0047\n",
      "Epoch 9/10\n",
      "144/144 - 0s - loss: 0.0044\n",
      "Epoch 10/10\n",
      "144/144 - 0s - loss: 0.0044\n",
      "WARNING:tensorflow:6 out of the last 15 calls to <function Model.make_predict_function.<locals>.predict_function at 0x0000024931548A60> triggered tf.function retracing. Tracing is expensive and the excessive number of tracings could be due to (1) creating @tf.function repeatedly in a loop, (2) passing tensors with different shapes, (3) passing Python objects instead of tensors. For (1), please define your @tf.function outside of the loop. For (2), @tf.function has experimental_relax_shapes=True option that relaxes argument shapes that can avoid unnecessary retracing. For (3), please refer to https://www.tensorflow.org/guide/function#controlling_retracing and https://www.tensorflow.org/api_docs/python/tf/function for  more details.\n",
      "Test RMSE: 0.065\n"
     ]
    },
    {
     "data": {
      "image/png": "[encoded data removed]",
      "text/plain": [
       "<Figure size 432x288 with 1 Axes>"
      ]
     },
     "metadata": {
      "needs_background": "light"
     },
     "output_type": "display_data"
    },
    {
     "name": "stdout",
     "output_type": "stream",
     "text": [
      " --------end for the company------\n"
     ]
    }
   ],
   "source": [
    "for val in uniqueVals[30:32]:\n",
    "    df1=grouped_df.loc[val,:]\n",
    "    df2=df1.reset_index()\n",
    "    prices = df2['Close'].values.astype('float32')\n",
    "    print(val)\n",
    "    #train model\n",
    "    model = Sequential()   \n",
    "    trainX, trainY, testX, testY=testandtrain(prices)\n",
    "    model = trainingmodel(model, trainX, trainY)\n",
    "    \n",
    "    #predict and plot\n",
    "    predictingY=predicting(prices,testX,testY,trainX)"
   ]
  },
  {
   "cell_type": "code",
   "execution_count": 37,
   "metadata": {
    "id": "GZ0B29d-r1JB"
   },
   "outputs": [],
   "source": [
    "from sklearn.metrics import mean_squared_error\n",
    "from sklearn.preprocessing import MinMaxScaler\n",
    "\n",
    "def predicting(prices, testX,testY,trainX):\n",
    "    scaler = MinMaxScaler(feature_range=(0, 1))\n",
    "    prices = prices.reshape(len(prices), 1)\n",
    "    prices.shape\n",
    "    scaler = MinMaxScaler(feature_range=(0, 1))\n",
    "    prices = scaler.fit_transform(prices)\n",
    "    \n",
    "    testPredict = model.predict(testX)\n",
    "\n",
    "    error = math.sqrt(mean_squared_error(testY, testPredict))\n",
    "    print('Test RMSE: %.3f' % error)\n",
    "    \n",
    "    \n",
    "    plt.plot(testPredict,color=\"blue\")\n",
    "    plt.plot(testY,color='red')\n",
    "    \n",
    "    plt.show()\n",
    "    print(\" --------end for the company------\")\n",
    "    return testPredict"
   ]
  },
  {
   "cell_type": "code",
   "execution_count": 38,
   "metadata": {},
   "outputs": [],
   "source": [
    "from tensorflow.keras.models import load_model\n",
    "model.save('predict_price.h5')"
   ]
  },
  {
   "cell_type": "code",
   "execution_count": 39,
   "metadata": {},
   "outputs": [],
   "source": [
    "mode = load_model('predict_price.h5')"
   ]
  },
  {
   "cell_type": "code",
   "execution_count": null,
   "metadata": {},
   "outputs": [],
   "source": []
  },
  {
   "cell_type": "code",
   "execution_count": null,
   "metadata": {},
   "outputs": [],
   "source": []
  }
 ],
 "metadata": {
  "colab": {
   "collapsed_sections": [],
   "name": "Untitled0.ipynb",
   "provenance": []
  },
  "kernelspec": {
   "display_name": "Python 3",
   "language": "python",
   "name": "python3"
  },
  "language_info": {
   "codemirror_mode": {
    "name": "ipython",
    "version": 3
   },
   "file_extension": ".py",
   "mimetype": "text/x-python",
   "name": "python",
   "nbconvert_exporter": "python",
   "pygments_lexer": "ipython3",
   "version": "3.7.1"
  }
 },
 "nbformat": 4,
 "nbformat_minor": 1
}
